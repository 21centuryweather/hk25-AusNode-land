{
 "cells": [
  {
   "cell_type": "markdown",
   "id": "222c84c7-11b4-4001-b256-18faef3bf1fb",
   "metadata": {},
   "source": [
    "# Map of correlations"
   ]
  },
  {
   "cell_type": "code",
   "execution_count": 12,
   "id": "dc6cce97-d9cd-49fe-8c70-943eb83d2fca",
   "metadata": {},
   "outputs": [],
   "source": [
    "import xarray as xr\n",
    "from pathlib import Path\n",
    "\n",
    "import intake\n",
    "import matplotlib.pyplot as plt\n",
    "import easygems.healpix as egh\n",
    "import cartopy.crs as ccrs\n",
    "\n",
    "import numpy as np\n",
    "import pandas as pd\n",
    "import os\n",
    "\n",
    "import netCDF4\n",
    "import glob"
   ]
  },
  {
   "cell_type": "code",
   "execution_count": 13,
   "id": "582ac1a0-deda-4827-b6b5-6dccee9827e0",
   "metadata": {},
   "outputs": [],
   "source": [
    "# to get the land mask from ICON\n",
    "# define paths\n",
    "datapath = '/g/data/qx55/germany_node/d3hp003.zarr'\n",
    "file = 'P1D'\n",
    "zoom = 'z5'\n",
    "\n",
    "# define the fname\n",
    "fpath = f'{datapath}/{file}_mean_{zoom}_atm.zarr'\n",
    "\n",
    "# open the zarr file\n",
    "di = xr.open_zarr(fpath)\n",
    " "
   ]
  },
  {
   "cell_type": "code",
   "execution_count": 14,
   "id": "ef136ae1-ae38-4d00-b639-3cb91af8f9c2",
   "metadata": {},
   "outputs": [],
   "source": [
    "\n",
    "# total precipitaion - Directory path\n",
    "data_dir = '/g/data/rt52/era5/single-levels/reanalysis/'\n",
    "var = 'tp'\n",
    "# Use glob to find files for June to August (months 06, 07, 08)\n",
    "file_list = sorted(glob.glob(data_dir + var+ '/2020/'+var+'_era5_oper_sfc_20200[6-8]*.nc'))\n",
    "\n",
    "# Load all files into one dataset\n",
    "ds = xr.open_mfdataset(file_list, combine='by_coords')\n",
    "ds['tp'] = ds['tp']\n",
    "# Optional: slice time again if you want to ensure the exact range\n",
    "ds_jja = ds.sel(time=slice('2020-06-01', '2020-08-31'))\n",
    "era_pr = ds_jja['tp'].resample(time='1D').mean(dim='time') * 86400"
   ]
  },
  {
   "cell_type": "code",
   "execution_count": 15,
   "id": "eaa437d4",
   "metadata": {},
   "outputs": [],
   "source": [
    "# evaporation - Directory path\n",
    "data_dir = '/g/data/rt52/era5/single-levels/reanalysis/'\n",
    "var = 'e'\n",
    "# Use glob to find files for June to August (months 06, 07, 08)\n",
    "file_list = sorted(glob.glob(data_dir + var+ '/2020/'+var+'_era5_oper_sfc_20200[6-8]*.nc'))\n",
    "\n",
    "# Load all files into one dataset\n",
    "ds = xr.open_mfdataset(file_list, combine='by_coords')\n",
    "    \n",
    "# Convert from Kelvin to Celsius\n",
    "#ds['t2m'] = ds['t2m'] - 273.15\n",
    "ds[var] = ds[var]\n",
    "# Optional: slice time again if you want to ensure the exact range\n",
    "ds_jja = ds.sel(time=slice('2020-06-01', '2020-08-31'))\n",
    "era_eva = ds_jja[var].resample(time='1D').mean(dim='time')\n"
   ]
  },
  {
   "cell_type": "code",
   "execution_count": null,
   "id": "e93ff8a3-d915-4efe-8428-7d51c34a4e6e",
   "metadata": {},
   "outputs": [],
   "source": [
    "#boreal summer\n",
    "#um_corr_lh_pr  = xr.where((di['sftlf']>0.9), xr.corr(era_pr, era_eva, dim='time'), np.nan)\n",
    "um_corr_lh_pr  = xr.corr(era_pr, era_eva, dim='time')\n",
    "\n",
    "\n",
    "plt.close('all')\n",
    "projection = ccrs.PlateCarree(central_longitude=0.0)\n",
    "fig, ax = plt.subplots(figsize=(10, 6), subplot_kw={'projection': projection}, layout='constrained')\n",
    "\n",
    "ax.set_global()\n",
    "# Use pcolormesh for lat-lon gridded data\n",
    "im = ax.pcolormesh(\n",
    "    um_corr_lh_pr['longitude'], \n",
    "    um_corr_lh_pr['latitude'], \n",
    "    um_corr_lh_pr, \n",
    "    cmap='RdBu', \n",
    "    transform=ccrs.PlateCarree(),\n",
    "    shading='auto',  # optional: prevents warnings\n",
    "    vmin=-1, vmax=1   # correlation range\n",
    ")\n",
    "\n",
    "ax.set_title('ERA5: Precipitation - Latent Heat Correlation (Boreal Summer)', fontsize=12)\n",
    "ax.coastlines()\n",
    "ax.gridlines(draw_labels=True)\n",
    "\n",
    "# Add colorbar\n",
    "cbar = fig.colorbar(im, ax=ax, orientation='vertical', label='Correlation')\n",
    "\n",
    "plt.show()"
   ]
  },
  {
   "cell_type": "code",
   "execution_count": null,
   "id": "cd7d262d-1eda-4fb3-a537-248f71f0f232",
   "metadata": {},
   "outputs": [],
   "source": []
  }
 ],
 "metadata": {
  "kernelspec": {
   "display_name": "digital_earths_kernel",
   "language": "python",
   "name": "digital_earths_venv"
  },
  "language_info": {
   "codemirror_mode": {
    "name": "ipython",
    "version": 3
   },
   "file_extension": ".py",
   "mimetype": "text/x-python",
   "name": "python",
   "nbconvert_exporter": "python",
   "pygments_lexer": "ipython3",
   "version": "3.12.10"
  }
 },
 "nbformat": 4,
 "nbformat_minor": 5
}
