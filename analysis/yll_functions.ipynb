{
 "cells": [
  {
   "cell_type": "code",
   "execution_count": 1,
   "id": "b554974e-4d43-42ce-a6fd-45afcd09936f",
   "metadata": {},
   "outputs": [],
   "source": [
    "import xarray as xr\n",
    "from scipy.ndimage import uniform_filter1d\n",
    "\n",
    "def corr_window(x, y, window_x=9, window_y=9, dim='time'):\n",
    "    \"\"\"\n",
    "    Like xr.corr, but applies a moving average before computing correlation.\n",
    "    Assumes x and y are xarray.DataArrays with matching shape and coords.\n",
    "    \"\"\"\n",
    "    def smooth(da, window):\n",
    "        return xr.DataArray(\n",
    "            uniform_filter1d(da, size=window, axis=da.get_axis_num(dim), mode='nearest'),\n",
    "            coords=da.coords, dims=da.dims\n",
    "        )\n",
    "\n",
    "    x_smooth = smooth(x, window_x)\n",
    "    y_smooth = smooth(y, window_y)\n",
    "\n",
    "    return xr.corr(x_smooth, y_smooth, dim=dim)"
   ]
  },
  {
   "cell_type": "code",
   "execution_count": null,
   "id": "a9bf88d4-99a8-4337-ae44-da8010694a48",
   "metadata": {},
   "outputs": [],
   "source": []
  }
 ],
 "metadata": {
  "kernelspec": {
   "display_name": "hackathon_kernel",
   "language": "python",
   "name": "hackathon_env"
  },
  "language_info": {
   "codemirror_mode": {
    "name": "ipython",
    "version": 3
   },
   "file_extension": ".py",
   "mimetype": "text/x-python",
   "name": "python",
   "nbconvert_exporter": "python",
   "pygments_lexer": "ipython3",
   "version": "3.10.14"
  }
 },
 "nbformat": 4,
 "nbformat_minor": 5
}
