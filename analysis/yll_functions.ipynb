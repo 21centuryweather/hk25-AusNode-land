{
 "cells": [
  {
   "cell_type": "code",
   "execution_count": 1,
   "id": "ec1b19c5-e56d-4e82-9587-4995846f789b",
   "metadata": {},
   "outputs": [],
   "source": [
    "import xarray as xr\n",
    "import matplotlib.pyplot as plt\n",
    "import easygems.healpix as egh\n",
    "import cartopy.crs as ccrs\n",
    "import numpy as np\n"
   ]
  },
  {
   "cell_type": "code",
   "execution_count": 2,
   "id": "b554974e-4d43-42ce-a6fd-45afcd09936f",
   "metadata": {},
   "outputs": [],
   "source": [
    "def corr_window(x, y, window_x, window_y, dim='time'):\n",
    "    \"\"\"\n",
    "    Computes correlation between two DataArrays after applying a trailing (causal) moving average.\n",
    "\n",
    "    Parameters:\n",
    "        x, y (xr.DataArray): Input arrays with matching shape and coordinates.\n",
    "        window_x, window_y (int): Trailing moving average windows for x and y.\n",
    "        dim (str): Dimension along which to apply smoothing and compute correlation.\n",
    "\n",
    "    Returns:\n",
    "        xr.DataArray: Correlation over the specified dimension.\n",
    "    \"\"\"\n",
    "    x_smooth = x.rolling({dim: window_x}, min_periods=window_x).mean()\n",
    "    y_smooth = y.rolling({dim: window_y}, min_periods=window_y).mean()\n",
    "    return xr.corr(x_smooth, y_smooth, dim=dim)"
   ]
  },
  {
   "cell_type": "code",
   "execution_count": 3,
   "id": "f3cabe2e-d1d9-448e-9a92-3e670a3972a8",
   "metadata": {},
   "outputs": [],
   "source": [
    "def get_nn_lon_lat_index(nside, lons, lats):\n",
    "    \"\"\"\n",
    "    nside: integer, power of 2. The return of hp.get_nside()\n",
    "    lons: uniques values of longitudes\n",
    "    lats: uniques values of latitudes\n",
    "    returns: array with the HEALPix cells that are closest to the lon/lat grid\n",
    "    \"\"\"\n",
    "    lons2, lats2 = np.meshgrid(lons, lats)\n",
    "    return xr.DataArray(\n",
    "        hp.ang2pix(nside, lons2, lats2, nest = True, lonlat = True),\n",
    "        coords=[(\"lat\", lats), (\"lon\", lons)],\n",
    "    )"
   ]
  },
  {
   "cell_type": "code",
   "execution_count": null,
   "id": "82c41691-9c04-437e-a1ad-4fb0cde54c3d",
   "metadata": {},
   "outputs": [],
   "source": []
  }
 ],
 "metadata": {
  "kernelspec": {
   "display_name": "hackathon_kernel",
   "language": "python",
   "name": "hackathon_env"
  },
  "language_info": {
   "codemirror_mode": {
    "name": "ipython",
    "version": 3
   },
   "file_extension": ".py",
   "mimetype": "text/x-python",
   "name": "python",
   "nbconvert_exporter": "python",
   "pygments_lexer": "ipython3",
   "version": "3.10.14"
  }
 },
 "nbformat": 4,
 "nbformat_minor": 5
}
