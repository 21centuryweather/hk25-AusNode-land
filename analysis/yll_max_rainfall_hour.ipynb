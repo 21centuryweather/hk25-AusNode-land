{
 "cells": [
  {
   "cell_type": "code",
   "execution_count": 1,
   "id": "7fc443d4-7dd2-465a-8f28-b75d68d82b40",
   "metadata": {},
   "outputs": [],
   "source": [
    "import xarray as xr\n",
    "import matplotlib.pyplot as plt\n",
    "import healpy as hp\n",
    "import easygems.healpix as egh\n",
    "import cartopy.crs as ccrs\n",
    "import numpy as np\n",
    "%run ~/hackathon-2025_project/hk25-AusNode-land/analysis/yll_functions.ipynb"
   ]
  },
  {
   "cell_type": "code",
   "execution_count": null,
   "id": "50d2d7c9-7077-4d47-b04a-16b22e883a22",
   "metadata": {},
   "outputs": [
    {
     "name": "stderr",
     "output_type": "stream",
     "text": [
      "/home/561/yl1269/.local/lib/python3.10/site-packages/xarray/backends/plugins.py:80: RuntimeWarning: Engine 'cfgrib' loading failed:\n",
      "Cannot find the ecCodes library\n",
      "  warnings.warn(f\"Engine {name!r} loading failed:\\n{ex}\", RuntimeWarning)\n",
      "/home/561/yl1269/.local/lib/python3.10/site-packages/requests/__init__.py:102: RequestsDependencyWarning: urllib3 (1.26.9) or chardet (5.2.0)/charset_normalizer (2.0.12) doesn't match a supported version!\n",
      "  warnings.warn(\"urllib3 ({}) or chardet ({})/charset_normalizer ({}) doesn't match a supported \"\n"
     ]
    }
   ],
   "source": [
    "# define paths\n",
    "datapath = '/g/data/qx55/germany_node/d3hp003.zarr'\n",
    "file = 'PT1H'\n",
    "zoom = 'z7'\n",
    "file_era5 = '/g/data/rt52/era5/single-levels/reanalysis/2t/2020/2t_era5_oper_sfc_20200101-20200131.nc'\n",
    "era5_template = xr.open_dataset(file_era5).isel(time=0)\n",
    "lats=era5_template.latitude.values\n",
    "lons=era5_template.longitude.values\n",
    "\n",
    "# define the fname\n",
    "fpath = f'{datapath}/{file}_point_{zoom}_atm.zarr'\n",
    "\n",
    "# open the zarr file\n",
    "ds = xr.open_zarr(fpath).sel(time=slice('2020-03','2021-02'))\n",
    "#ds_jja = ds.sel(time=ds['time'].dt.month.isin([6, 7, 8]))\n",
    "\n",
    "# what variables are there in the dataset?\n",
    "for key, longname in ds.data_vars.items():\n",
    "    print(f'{key}: {longname.long_name}')\n",
    "\n",
    "'''\n",
    "#### some variables of interest ####\n",
    "\n",
    "hflsd: latent heat flux\n",
    "hfssd: sensible heat flux\n",
    "huss: specific humidity in 2m\n",
    "mrso: Water content of soil layers\n",
    "orog: surface altitude\n",
    "pr: precipitation flux\n",
    "rlds: surface downwelling longwave radiation\n",
    "rldscs: surface downwelling clear-sky longwave radiation\n",
    "rlus: surface upwelling longwave radiation\n",
    "rsds: surface downwelling shortwave radiation\n",
    "rsdscs: surface downwelling clear-sky shortwave radiation\n",
    "rsus: surface upwelling shortwave radiation\n",
    "sftlf: cell area fraction occupied by land including lakes\n",
    "tas: temperature in 2m\n",
    "tauu: u-momentum flux at the surface\n",
    "tauv: v-momentum flux at the surface\n",
    "ts: surface temperature\n",
    "uas: zonal wind in 10m\n",
    "vas: meridional wind in 10m\n",
    "'''\n"
   ]
  },
  {
   "cell_type": "code",
   "execution_count": null,
   "id": "60408491-6932-410a-a59a-872891dd2f36",
   "metadata": {},
   "outputs": [],
   "source": [
    "land = ds['sftlf']\n",
    "#pr = xr.where(land >0.9, ds['pr'], np.nan)\n",
    "pr = ds['pr']\n",
    "\n",
    "# nside for um simulation, it should be equal to 2**zoom\n",
    "this_nside = hp.get_nside(land)\n",
    "\n",
    "cells = get_nn_lon_lat_index(this_nside, lons, lats) \n",
    "\n",
    "cells"
   ]
  },
  {
   "cell_type": "code",
   "execution_count": null,
   "id": "b4bfc3b0-303f-4ba2-8a6d-1adb052ab94a",
   "metadata": {},
   "outputs": [],
   "source": [
    "pr_hourly_clm = pr.groupby('time.hour').mean(dim='time')\n",
    "pr_hourly_clm"
   ]
  },
  {
   "cell_type": "code",
   "execution_count": null,
   "id": "5fe1834f-3f49-4fbe-8a1d-0c13a42cc938",
   "metadata": {},
   "outputs": [],
   "source": [
    "max_pr_hour = pr_hourly_clm.argmax(dim='hour')\n",
    "max_pr_hour"
   ]
  },
  {
   "cell_type": "code",
   "execution_count": null,
   "id": "2e692b2b-a621-4647-a757-e0cd5e64fbf2",
   "metadata": {},
   "outputs": [],
   "source": [
    "# test plot some data\n",
    "plt.close('all')\n",
    "projection=ccrs.PlateCarree(central_longitude=0.0)\n",
    "fig, ax = plt.subplots(figsize=(12, 6), subplot_kw={'projection': projection}, layout='constrained')\n",
    "\n",
    "data = xr.where(land >0.9, max_pr_hour, np.nan)\n",
    "ax.set_global()\n",
    "im = egh.healpix_show(data.values,ax=ax)\n",
    "ax.set_title(f'ICON zoom = {zoom}')\n",
    "ax.coastlines()\n",
    "ax.gridlines(draw_labels=True)\n",
    "fig.colorbar(im,orientation='vertical')\n",
    "\n",
    "plt.show()\n"
   ]
  },
  {
   "cell_type": "code",
   "execution_count": null,
   "id": "7d689b62-80b1-4275-99d4-b13090394959",
   "metadata": {},
   "outputs": [],
   "source": [
    "# nside for um simulation, it should be equal to 2**zoom\n",
    "this_nside = hp.get_nside(max_pr_hour)\n",
    "\n",
    "cells = get_nn_lon_lat_index(this_nside, lons, lats) \n",
    "\n",
    "cells\n",
    "\n",
    "max_pr_hour_regrided = max_pr_hour.isel(cell = cells) # regriding\n",
    "max_pr_hour_regrided = max_pr_hour_regrided.rename({'lon': 'longitude', 'lat': 'latitude'}) # we need to change the names to match ERA5 data\n",
    "land_regrided = land.isel(cell = cells)\n",
    "land_regrided = land_regrided.rename({'lon': 'longitude', 'lat': 'latitude'}) # we need to change the names to match ERA5 data\n",
    "\n",
    "max_pr_hour_regrided"
   ]
  },
  {
   "cell_type": "code",
   "execution_count": null,
   "id": "5bd877eb-cff0-4b02-94cb-294ae64b7ee7",
   "metadata": {},
   "outputs": [],
   "source": [
    "local_time_adj = 24*max_pr_hour_regrided.longitude/360\n",
    "local_time_adj"
   ]
  },
  {
   "cell_type": "code",
   "execution_count": null,
   "id": "c280f78d-36e4-4d28-bb7a-03b9c9082f0c",
   "metadata": {},
   "outputs": [],
   "source": [
    "# Expand to (lat, lon) using broadcasting\n",
    "local_time_adj_regrid = np.tile(local_time_adj, (len(max_pr_hour_regrided.latitude), 1))  # shape: (lat, lon)\n",
    "\n",
    "# Optional: wrap into xarray\n",
    "local_time_adj_regrid_da = xr.DataArray(\n",
    "    local_time_adj_regrid,\n",
    "    coords={'latitude': max_pr_hour_regrided.latitude, 'longitude': max_pr_hour_regrided.longitude},\n",
    "    dims=('latitude', 'longitude')\n",
    ")\n",
    "local_time_adj_regrid_da.plot()"
   ]
  },
  {
   "cell_type": "code",
   "execution_count": null,
   "id": "76c2e25b-d9a5-40ee-908c-ce04210316b4",
   "metadata": {},
   "outputs": [],
   "source": [
    "max_pr_hour_regrided_LT = (max_pr_hour_regrided + 24 + local_time_adj_regrid_da)%24\n",
    "max_pr_hour_regrided_LT=xr.where(land_regrided >0.9, max_pr_hour_regrided_LT, np.nan)\n",
    "max_pr_hour_regrided_LT.plot()"
   ]
  },
  {
   "cell_type": "code",
   "execution_count": null,
   "id": "ecd013e7-185d-46e0-8d6c-a9d696b98123",
   "metadata": {},
   "outputs": [],
   "source": [
    "plt.close('all')\n",
    "projection=ccrs.PlateCarree(central_longitude=0.0)\n",
    "fig, ax = plt.subplots(figsize=(13, 6), subplot_kw={'projection': projection}, layout='constrained')\n",
    "\n",
    "ax.set_global()\n",
    "im = max_pr_hour_regrided_LT.plot(ax=ax,cmap='YlOrBr',vmin=12, vmax=18)\n",
    "ax.set_title(f'ICON zoom = {zoom} Max. Rainfall Hour (LT)', loc='left', fontsize=20, y=1.1)\n",
    "ax.coastlines()\n",
    "ax.gridlines(draw_labels=True)\n",
    "#fig.colorbar(im,orientation='vertical')\n",
    "\n",
    "plt.show()\n"
   ]
  },
  {
   "cell_type": "code",
   "execution_count": null,
   "id": "1d8c181d-e92d-46fa-b51b-838a4348e335",
   "metadata": {},
   "outputs": [],
   "source": []
  },
  {
   "cell_type": "code",
   "execution_count": null,
   "id": "523cfc97-4ee9-4558-8276-5272bbbab0f5",
   "metadata": {},
   "outputs": [],
   "source": []
  }
 ],
 "metadata": {
  "kernelspec": {
   "display_name": "hackathon_kernel",
   "language": "python",
   "name": "hackathon_env"
  },
  "language_info": {
   "codemirror_mode": {
    "name": "ipython",
    "version": 3
   },
   "file_extension": ".py",
   "mimetype": "text/x-python",
   "name": "python",
   "nbconvert_exporter": "python",
   "pygments_lexer": "ipython3",
   "version": "3.10.14"
  }
 },
 "nbformat": 4,
 "nbformat_minor": 5
}
